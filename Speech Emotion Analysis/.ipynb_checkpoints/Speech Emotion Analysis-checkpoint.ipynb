{
 "cells": [
  {
   "cell_type": "code",
   "execution_count": null,
   "id": "1a6aa238",
   "metadata": {},
   "outputs": [],
   "source": [
    "!pip install --user pipwin\n",
    "\n",
    "#it is for windows used to work with pyaudio"
   ]
  },
  {
   "cell_type": "code",
   "execution_count": null,
   "id": "176981dd",
   "metadata": {},
   "outputs": [],
   "source": [
    "!C:\\Users\\talmeez\\AppData\\Roaming\\Python\\Python310\\Scripts\\pipwin install PyAudio\n",
    "    \n",
    "#It is internally used by speech recognition library.\n",
    "#PyAudio,can easily use Python to play and record audio on a variety of platforms,Linux,Windows, and macOS."
   ]
  },
  {
   "cell_type": "code",
   "execution_count": null,
   "id": "44b9e2f5",
   "metadata": {},
   "outputs": [],
   "source": [
    "!pip install SpeechRecognition\n",
    "\n",
    "#Library for performing speech recognition, with support for several engines and APIs, online and offline"
   ]
  },
  {
   "cell_type": "code",
   "execution_count": null,
   "id": "e36012d7",
   "metadata": {},
   "outputs": [],
   "source": [
    "!pip install textblob\n",
    "\n",
    "#TextBlob is a Pythonlibrary for processing textual data.\n",
    "#It provides a simple API for diving into common natural language processing (NLP) tasks such as,\n",
    "#tagging,extraction,sentiment analysis,classification"
   ]
  },
  {
   "cell_type": "code",
   "execution_count": null,
   "id": "8df48222",
   "metadata": {},
   "outputs": [],
   "source": [
    "import speech_recognition as sr"
   ]
  },
  {
   "cell_type": "code",
   "execution_count": null,
   "id": "5c13babb",
   "metadata": {},
   "outputs": [],
   "source": [
    "def recognize_speech_from_mic(recognizer, microphone):   #function\n",
    "\n",
    "    # check that recognizer and microphone arguments are appropriate type\n",
    "    if not isinstance(recognizer, sr.Recognizer):\n",
    "        raise TypeError(\"`recognizer` must be `Recognizer` instance\")\n",
    "\n",
    "    if not isinstance(microphone, sr.Microphone):\n",
    "        raise TypeError(\"`microphone` must be `Microphone` instance\")\n",
    "\n",
    "    # adjust the recognizer sensitivity to ambient noise and record audio\n",
    "    # from the microphone\n",
    "    with microphone as source:\n",
    "        recognizer.adjust_for_ambient_noise(source) # #  analyze the audio source for 1 second\n",
    "        audio = recognizer.listen(source)   #audio is captured\n",
    "\n",
    "    # set up the response object\n",
    "    response = {\n",
    "        \"success\": True,\n",
    "        \"error\": None,\n",
    "        \"transcription\": None\n",
    "    }\n",
    "\n",
    "    # try recognizing the speech in the recording\n",
    "    # if a RequestError or UnknownValueError exception is caught,\n",
    "    #   update the response object accordingly\n",
    "    try:\n",
    "        response[\"transcription\"] = recognizer.recognize_google(audio)  #by default function used by SR that uses default cases\n",
    "    except sr.RequestError:\n",
    "        # API was unreachable or unresponsive\n",
    "        response[\"success\"] = False\n",
    "        response[\"error\"] = \"API unavailable/unresponsive\"\n",
    "    except sr.UnknownValueError:\n",
    "        # speech was unintelligible\n",
    "        response[\"error\"] = \"Unable to recognize speech\"\n",
    "\n",
    "    return response\n",
    "\n",
    "\n",
    "#here conversion of audio into text is done"
   ]
  },
  {
   "cell_type": "code",
   "execution_count": null,
   "id": "ac8f4144",
   "metadata": {},
   "outputs": [],
   "source": [
    "recognizer = sr.Recognizer()   #here we identify the voice with the microphone"
   ]
  },
  {
   "cell_type": "code",
   "execution_count": null,
   "id": "a0ba8053",
   "metadata": {},
   "outputs": [],
   "source": [
    "mic = sr.Microphone(device_index=1)     #here we identify the voice with the microphone"
   ]
  },
  {
   "cell_type": "code",
   "execution_count": null,
   "id": "2f936df6",
   "metadata": {},
   "outputs": [],
   "source": [
    "response = recognize_speech_from_mic(recognizer, mic)   #Both parameters are passed to function and response is generated if no error"
   ]
  },
  {
   "cell_type": "code",
   "execution_count": null,
   "id": "62be2697",
   "metadata": {},
   "outputs": [],
   "source": [
    "print('\\nSuccess : {}\\nError   : {}\\n\\nText from Speech\\n{}\\n\\n{}' \\\n",
    "          .format(response['success'],\n",
    "                  response['error'],\n",
    "                  '-'*17,\n",
    "                  response['transcription']))\n",
    "#printing wheather successs or failur"
   ]
  },
  {
   "cell_type": "code",
   "execution_count": null,
   "id": "50102c30",
   "metadata": {},
   "outputs": [],
   "source": [
    "#sentiment analysis\n",
    "\n",
    "temp_str = ''#.....................pass various strings\n",
    "records_all = []#..................Empty list that will be filled with string to be talked\n",
    "while (temp_str != 'bye'):#..........................A contionuouis loop to be breaked whenever 'bye' is said\n",
    "    print('Speak it out')\n",
    "    response = recognize_speech_from_mic(recognizer, mic) #\n",
    "    if response['success']:#............If success then voice is captured\n",
    "        temp_str = response['transcription']\n",
    "        print('You said :' ,temp_str )#...........Printing whatever had been said so far\n",
    "        if (temp_str != 'bye'):#.....................If 'bye word has been said then recording is stopped'\n",
    "            records_all.append(temp_str)#......................Appending the text\n",
    "print('Stop')\n",
    "print(records_all)"
   ]
  },
  {
   "cell_type": "code",
   "execution_count": null,
   "id": "961d11d6",
   "metadata": {},
   "outputs": [],
   "source": [
    "records_all.remove(None)"
   ]
  },
  {
   "cell_type": "code",
   "execution_count": null,
   "id": "b9a81353",
   "metadata": {},
   "outputs": [],
   "source": [
    "from textblob import TextBlob      #sentiment analyzer"
   ]
  },
  {
   "cell_type": "code",
   "execution_count": null,
   "id": "50bf11e7",
   "metadata": {},
   "outputs": [],
   "source": [
    "def get_sentiment(sentx):      #function\n",
    "        '''\n",
    "        Utility function to classify sentiment of passed tweet\n",
    "        using textblob's sentiment method\n",
    "        '''\n",
    "        # create TextBlob object of passed text\n",
    "        analysis = TextBlob(sentx)\n",
    "        # set sentiment\n",
    "        if analysis.sentiment.polarity > 0:\n",
    "            return ('positive')\n",
    "        elif analysis.sentiment.polarity == 0:\n",
    "            return ('neutral')\n",
    "        else:\n",
    "            return ('negative')"
   ]
  },
  {
   "cell_type": "code",
   "execution_count": null,
   "id": "5b05358d",
   "metadata": {},
   "outputs": [],
   "source": [
    "# Select from collection\n",
    "sentimets_total = {'neutral': 0 , 'positive' : 0 , 'negative':0}\n",
    "for recd_sent in records_all:\n",
    "    sentiment = get_sentiment(recd_sent)\n",
    "    print (sentiment,'===>',recd_sent)\n",
    "    sentimets_total[sentiment] = sentimets_total[sentiment] + 1\n",
    "print(sentimets_total)"
   ]
  },
  {
   "cell_type": "code",
   "execution_count": null,
   "id": "8f860295",
   "metadata": {},
   "outputs": [],
   "source": [
    "from matplotlib import pyplot as plt\n",
    "slices = [sentimets_total['neutral'],sentimets_total['positive'],sentimets_total['negative']]\n",
    "activities = ['Neutral','Positive','Negative']\n",
    "cols = ['c','m','r',]\n",
    "\n",
    "plt.pie(slices,\n",
    "        labels=activities,\n",
    "        colors=cols,\n",
    "        shadow= True,\n",
    "        autopct='%1.1f%%')\n",
    "\n",
    "plt.title('Sentiment Analysis of Sentences')\n",
    "plt.legend()\n",
    "plt.show()\n"
   ]
  }
 ],
 "metadata": {
  "kernelspec": {
   "display_name": "Python 3 (ipykernel)",
   "language": "python",
   "name": "python3"
  },
  "language_info": {
   "codemirror_mode": {
    "name": "ipython",
    "version": 3
   },
   "file_extension": ".py",
   "mimetype": "text/x-python",
   "name": "python",
   "nbconvert_exporter": "python",
   "pygments_lexer": "ipython3",
   "version": "3.10.9"
  }
 },
 "nbformat": 4,
 "nbformat_minor": 5
}
